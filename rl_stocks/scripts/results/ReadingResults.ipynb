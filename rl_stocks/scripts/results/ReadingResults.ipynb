{
 "cells": [
  {
   "cell_type": "code",
   "execution_count": 54,
   "id": "billion-dynamics",
   "metadata": {},
   "outputs": [],
   "source": [
    "import numpy as np\n",
    "import pandas as pd\n",
    "import os\n",
    "import matplotlib.pyplot as plt\n",
    "%matplotlib inline"
   ]
  },
  {
   "cell_type": "code",
   "execution_count": 55,
   "id": "referenced-worthy",
   "metadata": {},
   "outputs": [],
   "source": [
    "npz = np.load('train_log/log.npz')"
   ]
  },
  {
   "cell_type": "code",
   "execution_count": 56,
   "id": "aquatic-yacht",
   "metadata": {},
   "outputs": [
    {
     "name": "stdout",
     "output_type": "stream",
     "text": [
      "Index 2190\n",
      "State 2190\n",
      "QtyStocks 2190\n",
      "TradeCost 2190\n",
      "StockPrice 2190\n",
      "Profit 2190\n"
     ]
    }
   ],
   "source": [
    "for item in npz.files:\n",
    "    print(item, len(npz[item]))"
   ]
  },
  {
   "cell_type": "code",
   "execution_count": 57,
   "id": "invalid-submission",
   "metadata": {},
   "outputs": [
    {
     "data": {
      "text/plain": [
       "2190"
      ]
     },
     "execution_count": 57,
     "metadata": {},
     "output_type": "execute_result"
    }
   ],
   "source": [
    "len(npz['Index'])"
   ]
  },
  {
   "cell_type": "code",
   "execution_count": 58,
   "id": "ready-empire",
   "metadata": {},
   "outputs": [
    {
     "data": {
      "text/plain": [
       "array([-inf, -inf,   8., ...,   6.,   6.,   6.])"
      ]
     },
     "execution_count": 58,
     "metadata": {},
     "output_type": "execute_result"
    }
   ],
   "source": [
    "npz['QtyStocks']"
   ]
  },
  {
   "cell_type": "code",
   "execution_count": 72,
   "id": "useful-cancer",
   "metadata": {},
   "outputs": [
    {
     "data": {
      "text/html": [
       "<div>\n",
       "<style scoped>\n",
       "    .dataframe tbody tr th:only-of-type {\n",
       "        vertical-align: middle;\n",
       "    }\n",
       "\n",
       "    .dataframe tbody tr th {\n",
       "        vertical-align: top;\n",
       "    }\n",
       "\n",
       "    .dataframe thead th {\n",
       "        text-align: right;\n",
       "    }\n",
       "</style>\n",
       "<table border=\"1\" class=\"dataframe\">\n",
       "  <thead>\n",
       "    <tr style=\"text-align: right;\">\n",
       "      <th></th>\n",
       "      <th>Index</th>\n",
       "      <th>State</th>\n",
       "      <th>QtyStocks</th>\n",
       "      <th>TradeCost</th>\n",
       "      <th>StockPrice</th>\n",
       "      <th>Profit</th>\n",
       "      <th>State_prime</th>\n",
       "    </tr>\n",
       "  </thead>\n",
       "  <tbody>\n",
       "    <tr>\n",
       "      <th>0</th>\n",
       "      <td>6</td>\n",
       "      <td>Go Long</td>\n",
       "      <td>8</td>\n",
       "      <td>905.202390</td>\n",
       "      <td>112.029999</td>\n",
       "      <td>0.000000</td>\n",
       "      <td>NaN</td>\n",
       "    </tr>\n",
       "    <tr>\n",
       "      <th>1</th>\n",
       "      <td>7</td>\n",
       "      <td>Flat</td>\n",
       "      <td>8</td>\n",
       "      <td>0.000000</td>\n",
       "      <td>110.860001</td>\n",
       "      <td>-9.453585</td>\n",
       "      <td>Go Long</td>\n",
       "    </tr>\n",
       "    <tr>\n",
       "      <th>2</th>\n",
       "      <td>8</td>\n",
       "      <td>Go Long</td>\n",
       "      <td>8</td>\n",
       "      <td>901.081573</td>\n",
       "      <td>111.519997</td>\n",
       "      <td>0.000000</td>\n",
       "      <td>Flat</td>\n",
       "    </tr>\n",
       "    <tr>\n",
       "      <th>3</th>\n",
       "      <td>9</td>\n",
       "      <td>Flat</td>\n",
       "      <td>8</td>\n",
       "      <td>0.000000</td>\n",
       "      <td>108.940002</td>\n",
       "      <td>-20.846353</td>\n",
       "      <td>Go Long</td>\n",
       "    </tr>\n",
       "    <tr>\n",
       "      <th>4</th>\n",
       "      <td>10</td>\n",
       "      <td>Flat</td>\n",
       "      <td>0</td>\n",
       "      <td>0.000000</td>\n",
       "      <td>107.370003</td>\n",
       "      <td>0.000000</td>\n",
       "      <td>Flat</td>\n",
       "    </tr>\n",
       "  </tbody>\n",
       "</table>\n",
       "</div>"
      ],
      "text/plain": [
       "   Index    State  QtyStocks   TradeCost  StockPrice     Profit State_prime\n",
       "0      6  Go Long          8  905.202390  112.029999   0.000000         NaN\n",
       "1      7     Flat          8    0.000000  110.860001  -9.453585     Go Long\n",
       "2      8  Go Long          8  901.081573  111.519997   0.000000        Flat\n",
       "3      9     Flat          8    0.000000  108.940002 -20.846353     Go Long\n",
       "4     10     Flat          0    0.000000  107.370003   0.000000        Flat"
      ]
     },
     "execution_count": 72,
     "metadata": {},
     "output_type": "execute_result"
    }
   ],
   "source": [
    "df = pd.read_csv('test_log/Test_log.csv', index_col=0)\n",
    "df['State_prime'] = df['State'].shift()\n",
    "df.head()"
   ]
  },
  {
   "cell_type": "code",
   "execution_count": 73,
   "id": "enhanced-kelly",
   "metadata": {},
   "outputs": [
    {
     "name": "stdout",
     "output_type": "stream",
     "text": [
      "Profit Factor: 0.4666666666666667\n"
     ]
    }
   ],
   "source": [
    "print('Profit Factor:', df['Index'].loc[(df['State_prime']!='Flat') & (df['Profit']>0)].count() / df['Index'].loc[(df['State_prime']!='Flat') & (df['Profit']<0)].count())"
   ]
  },
  {
   "cell_type": "code",
   "execution_count": 74,
   "id": "accurate-chambers",
   "metadata": {},
   "outputs": [
    {
     "name": "stdout",
     "output_type": "stream",
     "text": [
      "Profit 38.117604625999626\n"
     ]
    }
   ],
   "source": [
    "print('Profit', df['Profit'].sum())"
   ]
  },
  {
   "cell_type": "code",
   "execution_count": null,
   "id": "necessary-possible",
   "metadata": {},
   "outputs": [],
   "source": []
  }
 ],
 "metadata": {
  "kernelspec": {
   "display_name": "Python 3",
   "language": "python",
   "name": "python3"
  },
  "language_info": {
   "codemirror_mode": {
    "name": "ipython",
    "version": 3
   },
   "file_extension": ".py",
   "mimetype": "text/x-python",
   "name": "python",
   "nbconvert_exporter": "python",
   "pygments_lexer": "ipython3",
   "version": "3.8.8"
  }
 },
 "nbformat": 4,
 "nbformat_minor": 5
}
